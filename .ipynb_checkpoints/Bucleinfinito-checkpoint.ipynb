{
 "cells": [
  {
   "cell_type": "code",
   "execution_count": 2,
   "id": "3ef021ad-0742-4cd2-99cb-4cd0d10e1078",
   "metadata": {},
   "outputs": [
    {
     "name": "stderr",
     "output_type": "stream",
     "text": [
      "2024-11-19 19:47:05,518 - simple_example - WARNING - Este es un mensaje de advertencia.\n",
      "2024-11-19 19:47:05,518 - simple_example - WARNING - Este es un mensaje de advertencia.\n",
      "2024-11-19 19:47:05,519 - simple_example - ERROR - Este es un mensaje de error.\n",
      "2024-11-19 19:47:05,519 - simple_example - ERROR - Este es un mensaje de error.\n",
      "2024-11-19 19:47:08,520 - simple_example - WARNING - Este es un mensaje de advertencia.\n",
      "2024-11-19 19:47:08,520 - simple_example - WARNING - Este es un mensaje de advertencia.\n",
      "2024-11-19 19:47:08,522 - simple_example - ERROR - Este es un mensaje de error.\n",
      "2024-11-19 19:47:08,522 - simple_example - ERROR - Este es un mensaje de error.\n",
      "2024-11-19 19:47:11,523 - simple_example - WARNING - Este es un mensaje de advertencia.\n",
      "2024-11-19 19:47:11,523 - simple_example - WARNING - Este es un mensaje de advertencia.\n",
      "2024-11-19 19:47:11,524 - simple_example - ERROR - Este es un mensaje de error.\n",
      "2024-11-19 19:47:11,524 - simple_example - ERROR - Este es un mensaje de error.\n",
      "2024-11-19 19:47:14,525 - simple_example - WARNING - Este es un mensaje de advertencia.\n",
      "2024-11-19 19:47:14,525 - simple_example - WARNING - Este es un mensaje de advertencia.\n",
      "2024-11-19 19:47:14,526 - simple_example - ERROR - Este es un mensaje de error.\n",
      "2024-11-19 19:47:14,526 - simple_example - ERROR - Este es un mensaje de error.\n"
     ]
    },
    {
     "ename": "KeyboardInterrupt",
     "evalue": "",
     "output_type": "error",
     "traceback": [
      "\u001b[0;31m---------------------------------------------------------------------------\u001b[0m",
      "\u001b[0;31mKeyboardInterrupt\u001b[0m                         Traceback (most recent call last)",
      "Cell \u001b[0;32mIn[2], line 23\u001b[0m\n\u001b[1;32m     21\u001b[0m logger\u001b[38;5;241m.\u001b[39mwarning(\u001b[38;5;124m\"\u001b[39m\u001b[38;5;124mEste es un mensaje de advertencia.\u001b[39m\u001b[38;5;124m\"\u001b[39m)\n\u001b[1;32m     22\u001b[0m logger\u001b[38;5;241m.\u001b[39merror(\u001b[38;5;124m\"\u001b[39m\u001b[38;5;124mEste es un mensaje de error.\u001b[39m\u001b[38;5;124m\"\u001b[39m)\n\u001b[0;32m---> 23\u001b[0m \u001b[43mtime\u001b[49m\u001b[38;5;241;43m.\u001b[39;49m\u001b[43msleep\u001b[49m\u001b[43m(\u001b[49m\u001b[38;5;241;43m3\u001b[39;49m\u001b[43m)\u001b[49m  \u001b[38;5;66;03m# Pausar por 3 segundos entre cada iteración\u001b[39;00m\n",
      "\u001b[0;31mKeyboardInterrupt\u001b[0m: "
     ]
    }
   ],
   "source": [
    "import logging\n",
    "import time\n",
    "\n",
    "# create logger\n",
    "logger = logging.getLogger('simple_example')\n",
    "logger.setLevel(logging.DEBUG)\n",
    "\n",
    "# create console handler and set level to debug\n",
    "ch = logging.StreamHandler()\n",
    "ch.setLevel(logging.DEBUG)\n",
    "\n",
    "# create formatter\n",
    "formatter = logging.Formatter('%(asctime)s - %(name)s - %(levelname)s - %(message)s')\n",
    "\n",
    "# add formatter to ch\n",
    "ch.setFormatter(formatter)\n",
    "\n",
    "# add ch to logger\n",
    "logger.addHandler(ch)\n",
    "while True:\n",
    "    logger.warning(\"Este es un mensaje de advertencia.\")\n",
    "    logger.error(\"Este es un mensaje de error.\")\n",
    "    time.sleep(3)  # Pausar por 3 segundos entre cada iteración\n",
    "    "
   ]
  },
  {
   "cell_type": "code",
   "execution_count": null,
   "id": "14dd33fb-0238-45f3-9361-70f6d02f1000",
   "metadata": {},
   "outputs": [],
   "source": []
  },
  {
   "cell_type": "code",
   "execution_count": null,
   "id": "55e56bf0-5816-43f6-902b-493355e1df26",
   "metadata": {},
   "outputs": [],
   "source": []
  },
  {
   "cell_type": "code",
   "execution_count": null,
   "id": "b037eebe-2ce3-4341-b14f-d9a7fc1a8f80",
   "metadata": {},
   "outputs": [],
   "source": []
  },
  {
   "cell_type": "code",
   "execution_count": null,
   "id": "1a66c20e-6a06-403f-bd19-5391393009ad",
   "metadata": {},
   "outputs": [],
   "source": []
  },
  {
   "cell_type": "code",
   "execution_count": null,
   "id": "e2099e02-52d7-4647-8707-942bf716b05b",
   "metadata": {},
   "outputs": [],
   "source": []
  },
  {
   "cell_type": "code",
   "execution_count": null,
   "id": "a12a06b6-d72e-4d14-a0bd-66fd3732f1ee",
   "metadata": {},
   "outputs": [],
   "source": []
  },
  {
   "cell_type": "code",
   "execution_count": null,
   "id": "a5fd7c3a-edf2-4a55-8772-5165070761f7",
   "metadata": {},
   "outputs": [],
   "source": []
  },
  {
   "cell_type": "code",
   "execution_count": null,
   "id": "8c9dbdb0-e686-4eb7-9022-c99a4dfeb925",
   "metadata": {},
   "outputs": [],
   "source": []
  }
 ],
 "metadata": {
  "kernelspec": {
   "display_name": "Python 3 (ipykernel)",
   "language": "python",
   "name": "python3"
  },
  "language_info": {
   "codemirror_mode": {
    "name": "ipython",
    "version": 3
   },
   "file_extension": ".py",
   "mimetype": "text/x-python",
   "name": "python",
   "nbconvert_exporter": "python",
   "pygments_lexer": "ipython3",
   "version": "3.12.1"
  }
 },
 "nbformat": 4,
 "nbformat_minor": 5
}
