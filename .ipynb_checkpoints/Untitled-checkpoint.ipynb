{
 "cells": [
  {
   "cell_type": "code",
   "execution_count": 2,
   "id": "4b328ff5-3a63-44be-825e-fa17a0cc3def",
   "metadata": {},
   "outputs": [
    {
     "name": "stdout",
     "output_type": "stream",
     "text": [
      "Hola\n"
     ]
    }
   ],
   "source": [
    "print (\"Hola\")"
   ]
  },
  {
   "cell_type": "code",
   "execution_count": 4,
   "id": "e4c4af08-1cf5-41bb-b1bb-10bb54d82348",
   "metadata": {},
   "outputs": [
    {
     "name": "stderr",
     "output_type": "stream",
     "text": [
      "WARNING:root:Cuidado\n"
     ]
    }
   ],
   "source": [
    "import logging\n",
    "\n",
    "logging.warning(\"Cuidado\")\n",
    "logging.info(\"Información\")"
   ]
  },
  {
   "cell_type": "code",
   "execution_count": 10,
   "id": "02724375-fa6a-48e6-ba8f-b454081bd920",
   "metadata": {},
   "outputs": [
    {
     "name": "stderr",
     "output_type": "stream",
     "text": [
      "WARNING:root:Advertencia\n"
     ]
    }
   ],
   "source": [
    "import logging\n",
    "\n",
    "logging.basicConfig(level=logging.DEBUG, filename='example.log')\n",
    "\n",
    "logging.debug(\"Mensaje de depuración\")\n",
    "logging.info(\"Información\")\n",
    "logging.warning(\"Advertencia\")\n"
   ]
  },
  {
   "cell_type": "code",
   "execution_count": 8,
   "id": "5e7adcdb-3ae9-41f3-8e4c-877887f46bf1",
   "metadata": {},
   "outputs": [
    {
     "name": "stdout",
     "output_type": "stream",
     "text": [
      "Mensaje número 1\n",
      "Mensaje número 2\n",
      "Mensaje número 3\n",
      "Mensaje número 4\n",
      "Mensaje número 5\n"
     ]
    }
   ],
   "source": [
    "import time\n",
    "\n",
    "for i in range(5):  \n",
    "    print(f\"Mensaje número {i + 1}\")\n",
    "    time.sleep(1)  #"
   ]
  },
  {
   "cell_type": "code",
   "execution_count": 9,
   "id": "be2c8ddc-44ca-460d-b716-5fb84a03e68d",
   "metadata": {},
   "outputs": [],
   "source": [
    "import time\n",
    "\n",
    "with open(\"mensajes.txt\", \"w\") as file:\n",
    "    for i in range(5):  # Puedes ajustar el rango según cuántas veces quieras que se muestre el mensaje\n",
    "        file.write(f\"Mensaje número {i + 1}\\n\")\n",
    "        file.flush()  # Asegurarse de que el contenido se escriba en el archivo inmediatamente\n",
    "        time.sleep(1)  # Espera de 1 segundo antes de la siguiente iteración\n"
   ]
  },
  {
   "cell_type": "code",
   "execution_count": null,
   "id": "d1bf9538-8a07-4a92-9e8b-8f4d678ae219",
   "metadata": {},
   "outputs": [],
   "source": []
  }
 ],
 "metadata": {
  "kernelspec": {
   "display_name": "Python 3 (ipykernel)",
   "language": "python",
   "name": "python3"
  },
  "language_info": {
   "codemirror_mode": {
    "name": "ipython",
    "version": 3
   },
   "file_extension": ".py",
   "mimetype": "text/x-python",
   "name": "python",
   "nbconvert_exporter": "python",
   "pygments_lexer": "ipython3",
   "version": "3.12.1"
  }
 },
 "nbformat": 4,
 "nbformat_minor": 5
}
