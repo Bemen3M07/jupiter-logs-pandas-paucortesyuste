{
 "cells": [
  {
   "cell_type": "markdown",
   "id": "62ba0de1-91cd-4f9f-8f95-4238f4b77490",
   "metadata": {},
   "source": [
    "# Ejercicio 1"
   ]
  },
  {
   "cell_type": "markdown",
   "id": "6177d116-ac49-41f6-9da2-d98856fe37a5",
   "metadata": {},
   "source": [
    "Jupiter: Es una herramienta que crea y coparte documentros interactivos (noteebooks) donde combina codigo,textos,graficos y resultados \n",
    "Anaconda:es una plataforma o distribución de software que incluye todo lo necesario para trabajar con datos que tambien usa pythone usa biliotecas  y heramientas como podria ser el jupyter\n",
    "Paquete logging:El paquete login es una biblioteca de python que se utiliza para registrar informacion en la aplicacion. Genera mensajes sobre la funcion del programa"
   ]
  },
  {
   "cell_type": "markdown",
   "id": "73318910-bfae-41bb-a046-604be5c5a8cb",
   "metadata": {},
   "source": [
    "# Ejercicio 2 "
   ]
  },
  {
   "cell_type": "markdown",
   "id": "890dcd9b-3f7c-4a71-982c-8e37721a0dd4",
   "metadata": {},
   "source": [
    "Implementar un log es necesario para assegurar la fiabilidad,seguridad y mantenimiento del codigo\n",
    "\n",
    "# Monitorea ek rendimiento y la eficacia\n",
    "Los logos detectan burbujas en el codigo que sea mas importante\n",
    "\n",
    "# Auditorial y seguimiento de la actividad\n",
    "Los registros son utiles para saber que esta haciendo un usuario o un sistema sirve para aplicaciones que requieren control y seguridad\n",
    "# Prevencion de problemas\n",
    "Analizar los logs pueden evitar fallos o situaciones donde podria haber grandes errores \n"
   ]
  },
  {
   "cell_type": "markdown",
   "id": "44664291-4474-46d1-91e1-5fb6f489a08e",
   "metadata": {},
   "source": [
    "# Ejercicio 3"
   ]
  },
  {
   "cell_type": "code",
   "execution_count": null,
   "id": "fe1eb6f8-f727-4efe-8e02-f2a52a66e1c7",
   "metadata": {},
   "outputs": [],
   "source": [
    "# El logging.basicConfig configura el formato y el nivel de registro, el format='%(asctime)s - %(message)s' Define el formato del mensage la hora y fecha y muestra el texto del registro y el level=logging.Info\n",
    "#Registran el mensage con el nivell info o superior por ejemplo tambien el warning \n",
    "logging.basicConfig(format='%(asctime)s - %(message)s', level=logging.INFO)\n",
    "#Aqui crea el mensaje a nivel info \n",
    "logging.info('Admin ha accedido')\n",
    "#Crea un mensajeeador de registro que emviael registro a un fichero y lo guarda en una variavle llamada f_handler\n",
    "f_handler = logging.FileHandler('file.log')\n",
    "#Importa la bibilioteca logging de python\n",
    "import logging\n",
    "#Configura el formato del registro para que muestre el id del procveso el nivel de registro y genera un mensage\n",
    "logging.basicConfig(format='%(process)d-%(levelname)s-%(message)s')\n",
    "\n"
   ]
  },
  {
   "cell_type": "markdown",
   "id": "f266a65e-dd9f-4ffe-8fb3-76296e9ea93e",
   "metadata": {},
   "source": [
    "# Ejercicio 4 "
   ]
  },
  {
   "cell_type": "code",
   "execution_count": null,
   "id": "b75d330c-ba81-40bb-adf1-1aa314609de1",
   "metadata": {},
   "outputs": [],
   "source": [
    "\n",
    "#Esto lo que hace es calcular la media de las tablas\n",
    "notas[[\"M01\", \"M02\", \"M03\", \"M04\", \"M05\"]].mean()\n",
    "# Este codigo agrupa los datos y calcula la mediana de las noras de m01 a m05\n",
    "notas.groupby('Alumno', as_index=False)[[\"M01\", \"M02\", \"M03\", \"M04\", \"M05\"]].mean()\n",
    "\n",
    "#Aqui lo que hace es genera un garfico de linias representando alumnos(eix x) y con las columnas m01 y m02 (eix y)\n",
    "notas.plot(x=\"Alumno\", y=[\"M01\", \"M02\"])\n",
    "plt.rcParams[\"figure.figsize\"] = (10, 5)\n",
    "plt.show()\n",
    "\n",
    "#Aqui lo que hace es calcular la mendiana de las notas m01 a m05 por cada alumjo y ael axis indioca la ma mediana se calcula horizontalmente sobre las columnas de cada fila \n",
    "notas[[\"M01\", \"M02\", \"M03\", \"M04\", \"M05\"]].mean(axis=1)\n",
    "\n",
    "#Este codigo reoresenta la creacion de la grafica conm los datos, el color etc\n",
    "x_values = notas[\"Alumno\"]\n",
    "y_values = notas[\"M02\"]\n",
    "plt.plot(x_values, y_values, color=\"red\")\n",
    "plt.legend([\"M02\"])\n",
    "plt.show()\n",
    "\n"
   ]
  },
  {
   "cell_type": "markdown",
   "id": "edaddcb1-0eec-4511-a23f-dae83a63f159",
   "metadata": {},
   "source": [
    "# Ejercicio5"
   ]
  },
  {
   "cell_type": "markdown",
   "id": "bee9949c-9b1f-40d4-9060-e21c5352a6b5",
   "metadata": {},
   "source": [
    "No, no sigue con las normas de oro, primero por el color, deveeria de balanco con ese gris apenas se distinge pero lo demas me gusta el diseño de la pagina ya que cuando bajas baja el menu de ariba lo primeo que ves es el cabezal con un subcabezal y sale en letras grandes la noticia de una oferta que se ve en grande y cuando bajas el submenu baja sale la inforamcion con una letra decente. Lo veo bien lo unico que no le doy el visto bueno ha sido por el tema de colores"
   ]
  }
 ],
 "metadata": {
  "kernelspec": {
   "display_name": "Python 3 (ipykernel)",
   "language": "python",
   "name": "python3"
  },
  "language_info": {
   "codemirror_mode": {
    "name": "ipython",
    "version": 3
   },
   "file_extension": ".py",
   "mimetype": "text/x-python",
   "name": "python",
   "nbconvert_exporter": "python",
   "pygments_lexer": "ipython3",
   "version": "3.12.1"
  }
 },
 "nbformat": 4,
 "nbformat_minor": 5
}
